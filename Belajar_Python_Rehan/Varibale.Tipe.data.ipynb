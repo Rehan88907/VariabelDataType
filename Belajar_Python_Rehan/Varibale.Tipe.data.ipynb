{
 "cells": [
  {
   "cell_type": "markdown",
   "id": "54b871cb-d827-4759-8cfe-e3f7f2b93d2c",
   "metadata": {},
   "source": [
    "<h1>Belajar variabel dan tipe data</h1><hr>\n",
    "Tipe data di python yaitu <b>integer, Float, Boolean, String, Complex</b>"
   ]
  },
  {
   "cell_type": "code",
   "execution_count": 13,
   "id": "fc71051f-e0d7-4703-a247-e386eb3a37f9",
   "metadata": {},
   "outputs": [
    {
     "name": "stdout",
     "output_type": "stream",
     "text": [
      "900\n",
      "<class 'int'>\n"
     ]
    }
   ],
   "source": [
    "data_integer = 900\n",
    "data_integer\n",
    "print(data_integer)\n",
    "print(type(data_integer))"
   ]
  },
  {
   "cell_type": "code",
   "execution_count": 12,
   "id": "db08f734-e70e-4942-9fb1-88fad5719457",
   "metadata": {},
   "outputs": [
    {
     "name": "stdout",
     "output_type": "stream",
     "text": [
      "20.56\n",
      "<class 'float'>\n"
     ]
    }
   ],
   "source": [
    "data_float = 20.56\n",
    "print(data_float)\n",
    "print(type(data_float))"
   ]
  },
  {
   "cell_type": "code",
   "execution_count": 10,
   "id": "dc8651e5-6dc8-419b-9e18-a5819d18963d",
   "metadata": {
    "tags": []
   },
   "outputs": [
    {
     "name": "stdout",
     "output_type": "stream",
     "text": [
      "False\n",
      "<class 'bool'>\n"
     ]
    }
   ],
   "source": [
    "data_boolean = False\n",
    "print(data_boolean)\n",
    "print(type(data_boolean))"
   ]
  },
  {
   "cell_type": "code",
   "execution_count": 7,
   "id": "dfcf5fe6-5947-4a80-9cc4-22d1ceef1848",
   "metadata": {},
   "outputs": [
    {
     "name": "stdout",
     "output_type": "stream",
     "text": [
      "True\n",
      "<class 'bool'>\n"
     ]
    }
   ],
   "source": [
    "data_boolean = True\n",
    "print(data_boolean)\n",
    "print(type(data_boolean))"
   ]
  },
  {
   "cell_type": "code",
   "execution_count": 11,
   "id": "dee92c7e-113c-4ed8-b570-c889dfbb10c1",
   "metadata": {},
   "outputs": [
    {
     "name": "stdout",
     "output_type": "stream",
     "text": [
      "78\n",
      "<class 'str'>\n"
     ]
    }
   ],
   "source": [
    "data_string = \"78\"\n",
    "print(data_string)\n",
    "print(type(data_string))"
   ]
  },
  {
   "cell_type": "code",
   "execution_count": 15,
   "id": "889cb701-4100-4c12-ba78-eaa019d12ed7",
   "metadata": {},
   "outputs": [
    {
     "name": "stdout",
     "output_type": "stream",
     "text": [
      "(10+9j)\n",
      "<class 'complex'>\n"
     ]
    }
   ],
   "source": [
    "data_complex = complex(10,9)\n",
    "print(data_complex)\n",
    "print(type(data_complex))"
   ]
  },
  {
   "cell_type": "markdown",
   "id": "ce057a2d-a7c3-4035-90da-b56849bd97ca",
   "metadata": {},
   "source": [
    "<h2>Casting</h2><hr>\n",
    "<font color=\"green\">Casting</font> adalah proses melakukan konversi tipe data\n",
    "<ol>\n",
    "    <li>Sintak casting menggunakan (tipe data)</li>\n",
    "    <li>Casting dapat dilakukan untuk semua tipe</li>\n",
    "</ol>    "
   ]
  },
  {
   "cell_type": "code",
   "execution_count": 31,
   "id": "8a7ec007-edc5-449d-a964-61fcaf2590f7",
   "metadata": {},
   "outputs": [
    {
     "name": "stdout",
     "output_type": "stream",
     "text": [
      "900\n",
      "20.56\n",
      "(10+9j)\n",
      "False\n",
      "<class 'str'>\n",
      "<class 'float'>\n",
      "<class 'complex'>\n",
      "<class 'bool'>\n"
     ]
    }
   ],
   "source": [
    "int_to_string = str(data_integer)\n",
    "int_to_float = float(data_float)\n",
    "int_to_complex = complex(data_complex)\n",
    "int_to_boolean = bool(data_boolean)\n",
    "\n",
    "print(int_to_string)\n",
    "print(int_to_float)\n",
    "print(int_to_complex)\n",
    "print(int_to_boolean)\n",
    "\n",
    "print(type(int_to_string))\n",
    "print(type(int_to_float))\n",
    "print(type(int_to_complex))\n",
    "print(type(int_to_boolean))"
   ]
  },
  {
   "cell_type": "code",
   "execution_count": 50,
   "id": "101df8d6-8588-4db6-80be-d98283b7922b",
   "metadata": {},
   "outputs": [
    {
     "name": "stdout",
     "output_type": "stream",
     "text": [
      "78\n",
      "78.0\n",
      "True\n"
     ]
    }
   ],
   "source": [
    "string_to_int = int(data_string)\n",
    "string_to_float = float(data_stirng)\n",
    "string_to_bool = bool(data_string)\n",
    "\n",
    "\n",
    "print(string_to_int)\n",
    "print(string_to_float)\n",
    "print(string_to_bool)\n",
    "\n",
    "\n"
   ]
  },
  {
   "cell_type": "code",
   "execution_count": 59,
   "id": "3af83d60-3311-4c7e-a828-c8aade519507",
   "metadata": {},
   "outputs": [
    {
     "name": "stdout",
     "output_type": "stream",
     "text": [
      "0\n",
      "0.0\n",
      "<class 'int'>\n",
      "<class 'float'>\n"
     ]
    }
   ],
   "source": [
    "boolean_to_int = int(data_boolean)\n",
    "boolean_to_float = float(data_boolean)\n",
    "\n",
    "\n",
    "\n",
    "print(boolean_to_int)\n",
    "print(boolean_to_float)\n",
    "\n",
    "print(type(boolean_to_int))\n",
    "print(type(boolean_to_float))\n"
   ]
  }
 ],
 "metadata": {
  "kernelspec": {
   "display_name": "Python 3 (ipykernel)",
   "language": "python",
   "name": "python3"
  },
  "language_info": {
   "codemirror_mode": {
    "name": "ipython",
    "version": 3
   },
   "file_extension": ".py",
   "mimetype": "text/x-python",
   "name": "python",
   "nbconvert_exporter": "python",
   "pygments_lexer": "ipython3",
   "version": "3.9.12"
  }
 },
 "nbformat": 4,
 "nbformat_minor": 5
}
