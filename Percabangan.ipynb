{
 "cells": [
  {
   "cell_type": "code",
   "execution_count": 9,
   "id": "48a6183f",
   "metadata": {},
   "outputs": [
    {
     "name": "stdout",
     "output_type": "stream",
     "text": [
      "isikan bilangan:4\n",
      "4 adalah bilangan genap\n"
     ]
    }
   ],
   "source": [
    "nilai = int(input('isikan bilangan:'))\n",
    "sisa_bagi = nilai %2\n",
    "\n",
    "if sisa_bagi == 0:\n",
    "    print(nilai,\"adalah bilangan genap\")\n",
    "\n",
    "else:\n",
    "    print(f\"{nilai}adalah bilangan ganjil\")\n",
    " \n",
    "   "
   ]
  },
  {
   "cell_type": "code",
   "execution_count": 13,
   "id": "060be2bf",
   "metadata": {},
   "outputs": [
    {
     "name": "stdout",
     "output_type": "stream",
     "text": [
      "isikan nilai pemprograman mahasiswa:70\n",
      "nilai huruf mahasiswa B\n"
     ]
    }
   ],
   "source": [
    "#0 - 49 =>E\n",
    "#50 - 59 => D\n",
    "#60 - 69 => C\n",
    "#70 - 84 => B\n",
    "#85 - 100 => A\n",
    "\n",
    "nilai_mhs = int(input('isikan nilai pemprograman mahasiswa:'))\n",
    "keterangan =\"\"\n",
    "if nilai_mhs >=0 and nilai_mhs <50:\n",
    "    keterangan = \"E\"\n",
    "elif nilai_mhs >=50 and nilai_mhs <60:\n",
    "    keterangan = \"D\"\n",
    "elif nilai_mhs >=60 and nilai_mhs <70:\n",
    "    keterangan = \"C\"\n",
    "elif nilai_mhs >=70 and nilai_mhs <84:\n",
    "    keterangan = \"B\"\n",
    "elif nilai_mhs >=84 and nilai_mhs <100:\n",
    "    keterangan = \"A\"\n",
    "print(\"nilai huruf mahasiswa\", keterangan)"
   ]
  },
  {
   "cell_type": "code",
   "execution_count": null,
   "id": "83561a22",
   "metadata": {},
   "outputs": [],
   "source": []
  },
  {
   "cell_type": "code",
   "execution_count": null,
   "id": "a582d910",
   "metadata": {},
   "outputs": [],
   "source": []
  },
  {
   "cell_type": "code",
   "execution_count": null,
   "id": "6b9ed8eb",
   "metadata": {},
   "outputs": [],
   "source": []
  }
 ],
 "metadata": {
  "kernelspec": {
   "display_name": "Python 3 (ipykernel)",
   "language": "python",
   "name": "python3"
  },
  "language_info": {
   "codemirror_mode": {
    "name": "ipython",
    "version": 3
   },
   "file_extension": ".py",
   "mimetype": "text/x-python",
   "name": "python",
   "nbconvert_exporter": "python",
   "pygments_lexer": "ipython3",
   "version": "3.9.12"
  }
 },
 "nbformat": 4,
 "nbformat_minor": 5
}
