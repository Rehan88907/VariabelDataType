{
 "cells": [
  {
   "cell_type": "code",
   "execution_count": 1,
   "id": "da849e6f",
   "metadata": {},
   "outputs": [
    {
     "name": "stdout",
     "output_type": "stream",
     "text": [
      "Isikan nama awalraihan\n",
      "iskan nama tengahdaffa\n",
      "isikan nama akhirabdurrohman\n",
      "selamat datang raihan daffa abdurrohman S.kom\n"
     ]
    }
   ],
   "source": [
    "fname = input ('Isikan nama awal')\n",
    "mname = input ('iskan nama tengah')\n",
    "iname = input ('isikan nama akhir')\n",
    "\n",
    "print ('selamat datang',fname,mname,iname,\"S.kom\")"
   ]
  },
  {
   "cell_type": "code",
   "execution_count": 2,
   "id": "cd1f1fbf",
   "metadata": {},
   "outputs": [
    {
     "name": "stdout",
     "output_type": "stream",
     "text": [
      "isikan bilangan 1:3\n",
      "isikan bilangan 2:4\n",
      "<class 'str'>\n",
      "hasil penjumlahan 7\n"
     ]
    }
   ],
   "source": [
    "bil1 = input('isikan bilangan 1:')\n",
    "bil2 = input('isikan bilangan 2:')\n",
    "print(type(bil1))\n",
    "hasil = int(bil1) + int(bil2)\n",
    "print ('hasil penjumlahan', hasil)\n",
    "              "
   ]
  },
  {
   "cell_type": "code",
   "execution_count": 1,
   "id": "dcdc0765",
   "metadata": {
    "scrolled": true
   },
   "outputs": [
    {
     "name": "stdout",
     "output_type": "stream",
     "text": [
      "isikan panjang persegi:6\n",
      "isikan lebar persegi:9\n",
      "luas persegi panjang 54\n",
      "keliling persegi panjang 30\n"
     ]
    }
   ],
   "source": [
    "p = input('isikan panjang persegi:')\n",
    "l= input('isikan lebar persegi:')\n",
    "\n",
    "luas = int(p) * int(l)\n",
    "keliling = 2 * (int(p) + int(l))\n",
    "\n",
    "print('luas persegi panjang', luas)\n",
    "print('keliling persegi panjang', keliling)"
   ]
  },
  {
   "cell_type": "code",
   "execution_count": 3,
   "id": "1bb87f50",
   "metadata": {},
   "outputs": [
    {
     "name": "stdout",
     "output_type": "stream",
     "text": [
      "januari#febuari#maret#april\n"
     ]
    }
   ],
   "source": [
    "print (\"januari\", \"febuari\", \"maret\",  \"april\",  sep=\"#\")"
   ]
  },
  {
   "cell_type": "code",
   "execution_count": 6,
   "id": "e27ebe58",
   "metadata": {},
   "outputs": [
    {
     "name": "stdout",
     "output_type": "stream",
     "text": [
      "senin@selasa@rabu@kamis@jumat@sabtu@minggu^_^one\n",
      "two\n",
      "three\n",
      "four\n"
     ]
    }
   ],
   "source": [
    "print(\"senin\", \"selasa\", \"rabu\",  \"kamis\", \"jumat\", \"sabtu\", \"minggu\" ,sep=\"@\", end=\"^_^\")\n",
    "print(\"one\", \"two\", \"three\", \"four\", sep=\"\\n\")"
   ]
  },
  {
   "cell_type": "code",
   "execution_count": 8,
   "id": "6cc8328b",
   "metadata": {},
   "outputs": [
    {
     "name": "stdout",
     "output_type": "stream",
     "text": [
      "perkalian 7 dengan 10 adalah 70\n"
     ]
    }
   ],
   "source": [
    "number1 = 7\n",
    "number2 = 10\n",
    "\n",
    "#hasil perkalian 7 dan 10 adalah 70\n",
    "print(\"perkalian {} dengan {} adalah {}\". format(number1, number2, number1 * number2))"
   ]
  },
  {
   "cell_type": "code",
   "execution_count": 16,
   "id": "f905e0e6",
   "metadata": {},
   "outputs": [
    {
     "name": "stdout",
     "output_type": "stream",
     "text": [
      "urutan huruf BCA\n"
     ]
    }
   ],
   "source": [
    "first_letter = \"A\"\n",
    "midlle_letter = \"B\"\n",
    "last_letter = \"C\"\n",
    "print(\"urutan huruf {1}{2}{0}\". format(first_letter, midlle_letter, last_letter))"
   ]
  },
  {
   "cell_type": "code",
   "execution_count": 18,
   "id": "5b242f29",
   "metadata": {},
   "outputs": [
    {
     "name": "stdout",
     "output_type": "stream",
     "text": [
      "sekarang tanggal 20 bulan april tahun 2025\n"
     ]
    }
   ],
   "source": [
    "#sekarang tanggal 24 bulan april 2025\n",
    "print(\"sekarang tanggal {tanggal} bulan {bulan} tahun {tahun}\". format(tanggal = 20, bulan = \"april\", tahun = 2025))"
   ]
  },
  {
   "cell_type": "code",
   "execution_count": 32,
   "id": "820b0717",
   "metadata": {},
   "outputs": [
    {
     "name": "stdout",
     "output_type": "stream",
     "text": [
      "huruf pertama adalah: u\n",
      "huruf terakhir adalah: a\n",
      "huruf range 0-10: universitas\n",
      "putra\n",
      "nusa putra\n",
      "artup asun satisrevinu\n"
     ]
    }
   ],
   "source": [
    "kampus = \"universitas nusa putra\"\n",
    "print(\"huruf pertama adalah:\", kampus[0])\n",
    "print(\"huruf terakhir adalah:\", kampus[-1])\n",
    "print(\"huruf range 0-10:\", kampus[0:11])\n",
    "print(kampus[-5:])\n",
    "print(kampus[12:])\n",
    "#reverse string\n",
    "print(kampus[::-1])"
   ]
  },
  {
   "cell_type": "code",
   "execution_count": 36,
   "id": "abaf66b5",
   "metadata": {},
   "outputs": [
    {
     "name": "stdout",
     "output_type": "stream",
     "text": [
      "['jakarta', 'sukabumi', 'malang', 'bandung', 'surabaya']\n",
      "jakarta\n",
      "jakarta_sukabumi_malang_bandung_surabaya\n"
     ]
    }
   ],
   "source": [
    "#split => string -> list\n",
    "kota = \"jakarta sukabumi malang bandung surabaya\"\n",
    "list_kota = kota.split()\n",
    "print(list_kota)\n",
    "print(list_kota[0])\n",
    "\n",
    "#join => list -> string\n",
    "kota = \"jakarta sukabumi malang bandung surabaya\"\n",
    "join_kota = \"_\". join(list_kota)\n",
    "print(join_kota)"
   ]
  },
  {
   "cell_type": "code",
   "execution_count": 6,
   "id": "8c375cc6",
   "metadata": {},
   "outputs": [
    {
     "name": "stdout",
     "output_type": "stream",
     "text": [
      "isikan namabill gates\n",
      "isikan tanggal lahir18/desember/2022\n",
      "nama awal bill\n",
      "nama akhir gates\n",
      "tanggal 18\n",
      "bulan desember\n",
      "tahun 2022\n",
      "inisial b g\n"
     ]
    }
   ],
   "source": [
    "# isikan nama anda : bill gates\n",
    "# isikan tanggal lahir : 18/12/2022\n",
    "# output:\n",
    "# nama awal: bill\n",
    "# nama akhir : gates\n",
    "# tanggal lahir : 18\n",
    "# bulan lahir : 12\n",
    "# tahun lahir : 2022\n",
    "# nama inisial : BG\n",
    "nama = input('isikan nama')\n",
    "tanggal = input('isikan tanggal lahir')\n",
    "\n",
    "\n",
    "list_nama = nama.split()\n",
    "list_tanggal = tanggal.split(\"/\")\n",
    "\n",
    "print(\"nama awal\", list_nama[0])\n",
    "print(\"nama akhir\", list_nama[1])\n",
    "print(\"tanggal\", list_tanggal[0])\n",
    "print(\"bulan\", list_tanggal[1])\n",
    "print(\"tahun\", list_tanggal[2])\n",
    "print(\"inisial\", list_nama[0][0], list_nama[1][0])\n",
    "\n"
   ]
  },
  {
   "cell_type": "code",
   "execution_count": null,
   "id": "399399b0",
   "metadata": {},
   "outputs": [],
   "source": []
  },
  {
   "cell_type": "code",
   "execution_count": null,
   "id": "c22e3075",
   "metadata": {},
   "outputs": [],
   "source": []
  },
  {
   "cell_type": "code",
   "execution_count": null,
   "id": "fbd063dc",
   "metadata": {},
   "outputs": [],
   "source": []
  }
 ],
 "metadata": {
  "kernelspec": {
   "display_name": "Python 3 (ipykernel)",
   "language": "python",
   "name": "python3"
  },
  "language_info": {
   "codemirror_mode": {
    "name": "ipython",
    "version": 3
   },
   "file_extension": ".py",
   "mimetype": "text/x-python",
   "name": "python",
   "nbconvert_exporter": "python",
   "pygments_lexer": "ipython3",
   "version": "3.9.12"
  }
 },
 "nbformat": 4,
 "nbformat_minor": 5
}
